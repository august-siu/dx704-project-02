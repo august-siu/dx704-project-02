{
  "cells": [
    {
      "cell_type": "markdown",
      "metadata": {
        "id": "7aZ_blKrRZ3H"
      },
      "source": [
        "# DX 704 Week 2 Project\n",
        "\n",
        "This week's project will analyze fresh strawberry price data for a hypothetical \"buy low, freeze, and sell high\" business.\n",
        "Strawberries show strong seasonality in their prices compared to other fruits.\n",
        "\n",
        "![](https://ers.usda.gov/sites/default/files/_laserfiche/Charts/61401/oct14_finding_plattner_fig01.png)\n",
        "\n",
        "Image source: https://www.ers.usda.gov/amber-waves/2014/october/seasonal-fresh-fruit-price-patterns-differ-across-commodities-the-case-of-strawberries-and-apples\n",
        "\n",
        "You are considering a business where you buy strawberries when the prices are very low, carefully freeze them, even more carefully defrost them, and then sell them when the prices are high.\n",
        "You will forecast strawberry price time series and then use them to tactically pick times to buy, freeze, and sell the strawberries."
      ]
    },
    {
      "cell_type": "markdown",
      "metadata": {
        "id": "g1rddBd6_teG"
      },
      "source": [
        "The full project description, a template notebook, and raw data are available on GitHub at the following link.\n",
        "\n",
        "https://github.com/bu-cds-dx704/dx704-project-02\n"
      ]
    },
    {
      "cell_type": "markdown",
      "metadata": {},
      "source": [
        "### Example Code\n",
        "\n",
        "You may find it helpful to refer to these GitHub repositories of Jupyter notebooks for example code.\n",
        "\n",
        "* https://github.com/bu-cds-omds/dx601-examples\n",
        "* https://github.com/bu-cds-omds/dx602-examples\n",
        "* https://github.com/bu-cds-omds/dx603-examples\n",
        "* https://github.com/bu-cds-omds/dx704-examples\n",
        "\n",
        "Any calculations demonstrated in code examples or videos may be found in these notebooks, and you are allowed to copy this example code in your homework answers."
      ]
    },
    {
      "cell_type": "markdown",
      "metadata": {
        "id": "B7jHqNiZBXzD"
      },
      "source": [
        "## Part 1: Backtest Strawberry Prices\n",
        "\n",
        "Read the provided \"strawberry-prices.tsv\" with data from 2020 through 2024.\n",
        "This data is based on data from the U.S. Bureau of Statistics, but transformed so the ground truth is not online.\n",
        "https://fred.stlouisfed.org/series/APU0000711415\n",
        "\n",
        "Use the data for 2020 through 2023 to predict monthly prices in 2024.\n",
        "Spend some time to make sure you are happy with your methodology and prediction accuracy, since you will reuse the methodology to forecast 2025 next.\n",
        "Save the 2024 backtest predictions as \"strawberry-backtest.tsv\" with columns month and price.\n"
      ]
    },
    {
      "cell_type": "code",
      "execution_count": 3,
      "metadata": {
        "id": "T8OLCmHbiaoK"
      },
      "outputs": [
        {
          "name": "stderr",
          "output_type": "stream",
          "text": [
            "/usr/local/python/3.12.1/lib/python3.12/site-packages/statsmodels/tsa/base/tsa_model.py:473: ValueWarning: No frequency information was provided, so inferred frequency MS will be used.\n",
            "  self._init_dates(dates, freq)\n",
            "/usr/local/python/3.12.1/lib/python3.12/site-packages/statsmodels/tsa/base/tsa_model.py:473: ValueWarning: No frequency information was provided, so inferred frequency MS will be used.\n",
            "  self._init_dates(dates, freq)\n",
            "/usr/local/python/3.12.1/lib/python3.12/site-packages/statsmodels/tsa/statespace/sarimax.py:966: UserWarning: Non-stationary starting autoregressive parameters found. Using zeros as starting parameters.\n",
            "  warn('Non-stationary starting autoregressive parameters'\n",
            "/usr/local/python/3.12.1/lib/python3.12/site-packages/statsmodels/tsa/statespace/sarimax.py:978: UserWarning: Non-invertible starting MA parameters found. Using zeros as starting parameters.\n",
            "  warn('Non-invertible starting MA parameters found.'\n",
            "/usr/local/python/3.12.1/lib/python3.12/site-packages/statsmodels/tsa/statespace/sarimax.py:866: UserWarning: Too few observations to estimate starting parameters for seasonal ARMA. All parameters except for variances will be set to zeros.\n",
            "  warn('Too few observations to estimate starting parameters%s.'\n"
          ]
        },
        {
          "name": "stdout",
          "output_type": "stream",
          "text": [
            "2024 Mean Absolute Error: 0.41713319181643754\n"
          ]
        },
        {
          "name": "stderr",
          "output_type": "stream",
          "text": [
            "/usr/local/python/3.12.1/lib/python3.12/site-packages/statsmodels/base/model.py:607: ConvergenceWarning: Maximum Likelihood optimization failed to converge. Check mle_retvals\n",
            "  warnings.warn(\"Maximum Likelihood optimization failed to \"\n"
          ]
        }
      ],
      "source": [
        "# YOUR CHANGES HERE\n",
        "\n",
        "import pandas as pd\n",
        "import matplotlib.pyplot as plt\n",
        "from statsmodels.tsa.statespace.sarimax import SARIMAX\n",
        "from sklearn.metrics import mean_absolute_error\n",
        "\n",
        "df = pd.read_csv(\"strawberry-prices.tsv\", sep=\"\\t\", parse_dates=[\"month\"])\n",
        "\n",
        "train = df[df[\"month\"] < \"2024-01-01\"].set_index(\"month\")\n",
        "test_2024 = df[df[\"month\"].dt.year == 2024].set_index(\"month\")\n",
        "\n",
        "model = SARIMAX(train[\"price\"], order=(1,1,1), seasonal_order=(1,1,1,12))\n",
        "results = model.fit(disp=False)\n",
        "\n",
        "forecast_2024 = results.predict(start=\"2024-01-01\", end=\"2024-12-01\")\n",
        "\n",
        "mae_2024 = mean_absolute_error(test_2024[\"price\"], forecast_2024)\n",
        "print(\"2024 Mean Absolute Error:\", mae_2024)\n",
        "\n"
      ]
    },
    {
      "cell_type": "code",
      "execution_count": null,
      "metadata": {},
      "outputs": [
        {
          "name": "stderr",
          "output_type": "stream",
          "text": [
            "/usr/local/python/3.12.1/lib/python3.12/site-packages/tqdm/auto.py:21: TqdmWarning: IProgress not found. Please update jupyter and ipywidgets. See https://ipywidgets.readthedocs.io/en/stable/user_install.html\n",
            "  from .autonotebook import tqdm as notebook_tqdm\n",
            "16:22:21 - cmdstanpy - INFO - Chain [1] start processing\n",
            "16:22:21 - cmdstanpy - INFO - Chain [1] done processing\n"
          ]
        },
        {
          "name": "stdout",
          "output_type": "stream",
          "text": [
            "MAE on 2024 predictions: 0.2346\n"
          ]
        },
        {
          "data": {
            "text/html": [
              "<div>\n",
              "<style scoped>\n",
              "    .dataframe tbody tr th:only-of-type {\n",
              "        vertical-align: middle;\n",
              "    }\n",
              "\n",
              "    .dataframe tbody tr th {\n",
              "        vertical-align: top;\n",
              "    }\n",
              "\n",
              "    .dataframe thead th {\n",
              "        text-align: right;\n",
              "    }\n",
              "</style>\n",
              "<table border=\"1\" class=\"dataframe\">\n",
              "  <thead>\n",
              "    <tr style=\"text-align: right;\">\n",
              "      <th></th>\n",
              "      <th>month</th>\n",
              "      <th>price</th>\n",
              "    </tr>\n",
              "  </thead>\n",
              "  <tbody>\n",
              "    <tr>\n",
              "      <th>0</th>\n",
              "      <td>2024-01-01</td>\n",
              "      <td>4.603631</td>\n",
              "    </tr>\n",
              "    <tr>\n",
              "      <th>1</th>\n",
              "      <td>2024-02-01</td>\n",
              "      <td>4.170716</td>\n",
              "    </tr>\n",
              "    <tr>\n",
              "      <th>2</th>\n",
              "      <td>2024-03-01</td>\n",
              "      <td>3.915747</td>\n",
              "    </tr>\n",
              "    <tr>\n",
              "      <th>3</th>\n",
              "      <td>2024-04-01</td>\n",
              "      <td>3.780345</td>\n",
              "    </tr>\n",
              "    <tr>\n",
              "      <th>4</th>\n",
              "      <td>2024-05-01</td>\n",
              "      <td>3.606232</td>\n",
              "    </tr>\n",
              "    <tr>\n",
              "      <th>5</th>\n",
              "      <td>2024-06-01</td>\n",
              "      <td>3.288357</td>\n",
              "    </tr>\n",
              "    <tr>\n",
              "      <th>6</th>\n",
              "      <td>2024-07-01</td>\n",
              "      <td>3.227331</td>\n",
              "    </tr>\n",
              "    <tr>\n",
              "      <th>7</th>\n",
              "      <td>2024-08-01</td>\n",
              "      <td>3.454139</td>\n",
              "    </tr>\n",
              "    <tr>\n",
              "      <th>8</th>\n",
              "      <td>2024-09-01</td>\n",
              "      <td>3.466039</td>\n",
              "    </tr>\n",
              "    <tr>\n",
              "      <th>9</th>\n",
              "      <td>2024-10-01</td>\n",
              "      <td>4.057030</td>\n",
              "    </tr>\n",
              "    <tr>\n",
              "      <th>10</th>\n",
              "      <td>2024-11-01</td>\n",
              "      <td>4.369473</td>\n",
              "    </tr>\n",
              "    <tr>\n",
              "      <th>11</th>\n",
              "      <td>2024-12-01</td>\n",
              "      <td>4.529241</td>\n",
              "    </tr>\n",
              "  </tbody>\n",
              "</table>\n",
              "</div>"
            ],
            "text/plain": [
              "        month     price\n",
              "0  2024-01-01  4.603631\n",
              "1  2024-02-01  4.170716\n",
              "2  2024-03-01  3.915747\n",
              "3  2024-04-01  3.780345\n",
              "4  2024-05-01  3.606232\n",
              "5  2024-06-01  3.288357\n",
              "6  2024-07-01  3.227331\n",
              "7  2024-08-01  3.454139\n",
              "8  2024-09-01  3.466039\n",
              "9  2024-10-01  4.057030\n",
              "10 2024-11-01  4.369473\n",
              "11 2024-12-01  4.529241"
            ]
          },
          "execution_count": 4,
          "metadata": {},
          "output_type": "execute_result"
        }
      ],
      "source": [
        "#The MAE is 0.417 so redid it with Facebook Prophet\n",
        "\n",
        "import pandas as pd\n",
        "from prophet import Prophet\n",
        "from sklearn.metrics import mean_absolute_error\n",
        "\n",
        "\n",
        "df = pd.read_csv(\"strawberry-prices.tsv\", sep=\"\\t\", parse_dates=[\"month\"])\n",
        "\n",
        "#in Facebook Prophet, ds is month, y is price and yhat is predicted values\n",
        "\n",
        "df.rename(columns={\"month\":\"ds\", \"price\":\"y\"}, inplace=True)\n",
        "df['ds'] = pd.to_datetime(df['ds'])\n",
        "\n",
        "train = df[df['ds'] < '2024-01-01']\n",
        "test = df[df['ds'] >= '2024-01-01']\n",
        "\n",
        "model = Prophet(yearly_seasonality=True, weekly_seasonality=False, daily_seasonality=False)\n",
        "model.fit(train)\n",
        "\n",
        "future = model.make_future_dataframe(periods=12, freq='MS')\n",
        "future_2024 = future[future['ds'].dt.year == 2024]\n",
        "\n",
        "forecast = model.predict(future_2024)\n",
        "\n",
        "preds = forecast[['ds', 'yhat']].copy()\n",
        "preds = preds.set_index('ds').join(test.set_index('ds'))\n",
        "\n",
        "mae = mean_absolute_error(preds['y'], preds['yhat'])\n",
        "print(f\"MAE on 2024 predictions: {mae:.4f}\")\n",
        "\n",
        "#backtest predictions are reset from Sarimax Method to Facebook Prophet method\n",
        "\n",
        "\n",
        "preds_reset = preds.reset_index()\n",
        "preds_reset = preds_reset[['ds', 'yhat']]\n",
        "preds_reset.columns = ['month', 'price']\n",
        "preds_reset.to_csv(\"strawberry-backtest.tsv\", sep=\"\\t\", index=False)\n",
        "\n",
        "preds_reset\n"
      ]
    },
    {
      "cell_type": "markdown",
      "metadata": {
        "id": "vzTi6z-skMoz"
      },
      "source": [
        "Submit \"strawberry-backtest.tsv\" in Gradescope."
      ]
    },
    {
      "cell_type": "markdown",
      "metadata": {
        "id": "T3D1ItqDnt9c"
      },
      "source": [
        "## Part 2: Backtest Errors\n",
        "\n",
        "What are the mean and standard deviation of the residuals between your backtest predictions and the ground truth? (If your mean is not close to zero, then you may be missing a long term trend.)\n",
        "\n",
        "Write the mean and standard deviation to a file \"backtest-accuracy.tsv\" with two columns, mean and std."
      ]
    },
    {
      "cell_type": "code",
      "execution_count": 5,
      "metadata": {},
      "outputs": [
        {
          "name": "stdout",
          "output_type": "stream",
          "text": [
            "Residual Mean: -0.0348\n",
            "Residual Std: 0.2744\n"
          ]
        }
      ],
      "source": [
        "\n",
        "preds['residual'] = preds['y'] - preds['yhat']\n",
        "\n",
        "mean_residual = preds['residual'].mean()\n",
        "std_residual = preds['residual'].std()\n",
        "\n",
        "print(f\"Residual Mean: {mean_residual:.4f}\")\n",
        "print(f\"Residual Std: {std_residual:.4f}\")\n",
        "\n",
        "accuracy_df = pd.DataFrame({\n",
        "    'mean': [mean_residual],\n",
        "    'std': [std_residual]\n",
        "})\n",
        "\n",
        "accuracy_df.to_csv(\"backtest-accuracy.tsv\", sep=\"\\t\", index=False)\n"
      ]
    },
    {
      "cell_type": "markdown",
      "metadata": {
        "id": "Cq2d378QtnG9"
      },
      "source": [
        "Submit \"backtest-accuracy.tsv\" in Gradescope."
      ]
    },
    {
      "cell_type": "markdown",
      "metadata": {
        "id": "Pa4DWVrpj5mq"
      },
      "source": [
        "## Part 3: Forecast Strawberry Prices\n",
        "\n",
        "Use all the data from 2020 through 2024 to predict monthly prices in 2025 using the same methodology from part 1.\n",
        "Make a monthly forecast for each month of 2025 and save it as \"strawberry-forecast.tsv\" with columns for month and price."
      ]
    },
    {
      "cell_type": "code",
      "execution_count": null,
      "metadata": {
        "id": "CiKoW3BrkJiS"
      },
      "outputs": [
        {
          "name": "stderr",
          "output_type": "stream",
          "text": [
            "16:22:21 - cmdstanpy - INFO - Chain [1] start processing\n"
          ]
        },
        {
          "name": "stderr",
          "output_type": "stream",
          "text": [
            "16:22:21 - cmdstanpy - INFO - Chain [1] done processing\n"
          ]
        },
        {
          "data": {
            "text/html": [
              "<div>\n",
              "<style scoped>\n",
              "    .dataframe tbody tr th:only-of-type {\n",
              "        vertical-align: middle;\n",
              "    }\n",
              "\n",
              "    .dataframe tbody tr th {\n",
              "        vertical-align: top;\n",
              "    }\n",
              "\n",
              "    .dataframe thead th {\n",
              "        text-align: right;\n",
              "    }\n",
              "</style>\n",
              "<table border=\"1\" class=\"dataframe\">\n",
              "  <thead>\n",
              "    <tr style=\"text-align: right;\">\n",
              "      <th></th>\n",
              "      <th>month</th>\n",
              "      <th>price</th>\n",
              "    </tr>\n",
              "  </thead>\n",
              "  <tbody>\n",
              "    <tr>\n",
              "      <th>0</th>\n",
              "      <td>2025-01-01</td>\n",
              "      <td>4.227590</td>\n",
              "    </tr>\n",
              "    <tr>\n",
              "      <th>1</th>\n",
              "      <td>2025-02-01</td>\n",
              "      <td>4.139785</td>\n",
              "    </tr>\n",
              "    <tr>\n",
              "      <th>2</th>\n",
              "      <td>2025-03-01</td>\n",
              "      <td>3.625474</td>\n",
              "    </tr>\n",
              "    <tr>\n",
              "      <th>3</th>\n",
              "      <td>2025-04-01</td>\n",
              "      <td>3.621645</td>\n",
              "    </tr>\n",
              "    <tr>\n",
              "      <th>4</th>\n",
              "      <td>2025-05-01</td>\n",
              "      <td>3.334506</td>\n",
              "    </tr>\n",
              "    <tr>\n",
              "      <th>5</th>\n",
              "      <td>2025-06-01</td>\n",
              "      <td>3.056036</td>\n",
              "    </tr>\n",
              "    <tr>\n",
              "      <th>6</th>\n",
              "      <td>2025-07-01</td>\n",
              "      <td>3.009510</td>\n",
              "    </tr>\n",
              "    <tr>\n",
              "      <th>7</th>\n",
              "      <td>2025-08-01</td>\n",
              "      <td>3.263252</td>\n",
              "    </tr>\n",
              "    <tr>\n",
              "      <th>8</th>\n",
              "      <td>2025-09-01</td>\n",
              "      <td>3.399879</td>\n",
              "    </tr>\n",
              "    <tr>\n",
              "      <th>9</th>\n",
              "      <td>2025-10-01</td>\n",
              "      <td>3.662965</td>\n",
              "    </tr>\n",
              "    <tr>\n",
              "      <th>10</th>\n",
              "      <td>2025-11-01</td>\n",
              "      <td>4.154703</td>\n",
              "    </tr>\n",
              "    <tr>\n",
              "      <th>11</th>\n",
              "      <td>2025-12-01</td>\n",
              "      <td>4.523599</td>\n",
              "    </tr>\n",
              "  </tbody>\n",
              "</table>\n",
              "</div>"
            ],
            "text/plain": [
              "        month     price\n",
              "0  2025-01-01  4.227590\n",
              "1  2025-02-01  4.139785\n",
              "2  2025-03-01  3.625474\n",
              "3  2025-04-01  3.621645\n",
              "4  2025-05-01  3.334506\n",
              "5  2025-06-01  3.056036\n",
              "6  2025-07-01  3.009510\n",
              "7  2025-08-01  3.263252\n",
              "8  2025-09-01  3.399879\n",
              "9  2025-10-01  3.662965\n",
              "10 2025-11-01  4.154703\n",
              "11 2025-12-01  4.523599"
            ]
          },
          "execution_count": 6,
          "metadata": {},
          "output_type": "execute_result"
        }
      ],
      "source": [
        "# YOUR CHANGES HERE# \n",
        "\n",
        "full_data = df[df['ds'] <= '2024-12-31']\n",
        "\n",
        "model_full = Prophet(yearly_seasonality=True, weekly_seasonality=False, daily_seasonality=False)\n",
        "model_full.fit(full_data)\n",
        "\n",
        "future_2025 = model_full.make_future_dataframe(periods=12, freq='MS')\n",
        "future_2025 = future_2025[future_2025['ds'].dt.year == 2025]\n",
        "\n",
        "forecast_2025 = model_full.predict(future_2025)\n",
        "\n",
        "forecast_2025_save = forecast_2025[['ds', 'yhat']].copy()\n",
        "forecast_2025_save.columns = ['month', 'price']\n",
        "\n",
        "forecast_2025_save.to_csv(\"strawberry-forecast.tsv\", sep=\"\\t\", index=False)\n",
        "\n",
        "forecast_2025_save\n",
        "\n"
      ]
    },
    {
      "cell_type": "markdown",
      "metadata": {
        "id": "32lM_MPdico0"
      },
      "source": [
        "Submit \"strawberry-forecast.tsv\" in Gradescope."
      ]
    },
    {
      "cell_type": "markdown",
      "metadata": {
        "id": "SzCWxxaLi8MH"
      },
      "source": [
        "## Part 4: Buy Low, Freeze and Sell High\n",
        "\n",
        "Using your 2025 forecast, analyze the profit picking different pairs of months to buy and sell strawberries.\n",
        "Maximize your profit assuming that it costs &dollar;0.20 per pint to freeze the strawberries, &dollar;0.10 per pint per month to store the frozen strawberries and there is a 10% price discount from selling previously frozen strawberries.\n",
        "So, if you buy a pint of strawberies for &dollar;1, freeze them, and sell them for &dollar;2 three months after buying them, then the profit is &dollar;2 * 0.9 - &dollar;1 - &dollar;0.20 - &dollar;0.10 * 3 = &dollar;0.30 per pint.\n",
        "To evaluate a given pair of months, assume that you can invest &dollar;1,000,000 to cover all costs, and that you buy as many pints of strawberries as possible.\n",
        "\n",
        "Write the results of your analysis to a file \"timings.tsv\" with columns for the buy_month, sell_month, pints_purchased, and expected_profit."
      ]
    },
    {
      "cell_type": "code",
      "execution_count": 7,
      "metadata": {
        "id": "pGWQQvy6nkCk"
      },
      "outputs": [
        {
          "data": {
            "text/html": [
              "<div>\n",
              "<style scoped>\n",
              "    .dataframe tbody tr th:only-of-type {\n",
              "        vertical-align: middle;\n",
              "    }\n",
              "\n",
              "    .dataframe tbody tr th {\n",
              "        vertical-align: top;\n",
              "    }\n",
              "\n",
              "    .dataframe thead th {\n",
              "        text-align: right;\n",
              "    }\n",
              "</style>\n",
              "<table border=\"1\" class=\"dataframe\">\n",
              "  <thead>\n",
              "    <tr style=\"text-align: right;\">\n",
              "      <th></th>\n",
              "      <th>buy_month</th>\n",
              "      <th>sell_month</th>\n",
              "      <th>pints_purchased</th>\n",
              "      <th>expected_profit</th>\n",
              "    </tr>\n",
              "  </thead>\n",
              "  <tbody>\n",
              "    <tr>\n",
              "      <th>55</th>\n",
              "      <td>2025-07-01</td>\n",
              "      <td>2025-12-01</td>\n",
              "      <td>332279</td>\n",
              "      <td>120194.84</td>\n",
              "    </tr>\n",
              "    <tr>\n",
              "      <th>50</th>\n",
              "      <td>2025-06-01</td>\n",
              "      <td>2025-12-01</td>\n",
              "      <td>327221</td>\n",
              "      <td>70418.97</td>\n",
              "    </tr>\n",
              "    <tr>\n",
              "      <th>59</th>\n",
              "      <td>2025-08-01</td>\n",
              "      <td>2025-12-01</td>\n",
              "      <td>306442</td>\n",
              "      <td>63735.97</td>\n",
              "    </tr>\n",
              "    <tr>\n",
              "      <th>62</th>\n",
              "      <td>2025-09-01</td>\n",
              "      <td>2025-12-01</td>\n",
              "      <td>294128</td>\n",
              "      <td>50401.72</td>\n",
              "    </tr>\n",
              "    <tr>\n",
              "      <th>54</th>\n",
              "      <td>2025-07-01</td>\n",
              "      <td>2025-11-01</td>\n",
              "      <td>332279</td>\n",
              "      <td>43104.00</td>\n",
              "    </tr>\n",
              "    <tr>\n",
              "      <th>...</th>\n",
              "      <td>...</td>\n",
              "      <td>...</td>\n",
              "      <td>...</td>\n",
              "      <td>...</td>\n",
              "    </tr>\n",
              "    <tr>\n",
              "      <th>7</th>\n",
              "      <td>2025-01-01</td>\n",
              "      <td>2025-09-01</td>\n",
              "      <td>236541</td>\n",
              "      <td>-512749.54</td>\n",
              "    </tr>\n",
              "    <tr>\n",
              "      <th>15</th>\n",
              "      <td>2025-02-01</td>\n",
              "      <td>2025-07-01</td>\n",
              "      <td>241558</td>\n",
              "      <td>-514814.67</td>\n",
              "    </tr>\n",
              "    <tr>\n",
              "      <th>4</th>\n",
              "      <td>2025-01-01</td>\n",
              "      <td>2025-06-01</td>\n",
              "      <td>236541</td>\n",
              "      <td>-514986.97</td>\n",
              "    </tr>\n",
              "    <tr>\n",
              "      <th>6</th>\n",
              "      <td>2025-01-01</td>\n",
              "      <td>2025-08-01</td>\n",
              "      <td>236541</td>\n",
              "      <td>-518181.59</td>\n",
              "    </tr>\n",
              "    <tr>\n",
              "      <th>5</th>\n",
              "      <td>2025-01-01</td>\n",
              "      <td>2025-07-01</td>\n",
              "      <td>236541</td>\n",
              "      <td>-548545.76</td>\n",
              "    </tr>\n",
              "  </tbody>\n",
              "</table>\n",
              "<p>66 rows × 4 columns</p>\n",
              "</div>"
            ],
            "text/plain": [
              "     buy_month  sell_month  pints_purchased  expected_profit\n",
              "55  2025-07-01  2025-12-01           332279        120194.84\n",
              "50  2025-06-01  2025-12-01           327221         70418.97\n",
              "59  2025-08-01  2025-12-01           306442         63735.97\n",
              "62  2025-09-01  2025-12-01           294128         50401.72\n",
              "54  2025-07-01  2025-11-01           332279         43104.00\n",
              "..         ...         ...              ...              ...\n",
              "7   2025-01-01  2025-09-01           236541       -512749.54\n",
              "15  2025-02-01  2025-07-01           241558       -514814.67\n",
              "4   2025-01-01  2025-06-01           236541       -514986.97\n",
              "6   2025-01-01  2025-08-01           236541       -518181.59\n",
              "5   2025-01-01  2025-07-01           236541       -548545.76\n",
              "\n",
              "[66 rows x 4 columns]"
            ]
          },
          "execution_count": 7,
          "metadata": {},
          "output_type": "execute_result"
        }
      ],
      "source": [
        "# YOUR CHANGES HERE\n",
        "import numpy as np\n",
        "\n",
        "investment = 1_000_000\n",
        "freeze_cost = 0.20\n",
        "storage_cost_per_month = 0.10\n",
        "discount_factor = 0.9\n",
        "\n",
        "results = []\n",
        "\n",
        "months = forecast_2025_save['month'].to_list()\n",
        "prices = forecast_2025_save['price'].to_list()\n",
        "\n",
        "for i in range(len(months)):\n",
        "    buy_month = months[i]\n",
        "    buy_price = prices[i]\n",
        "    for j in range(i+1, len(months)):\n",
        "        sell_month = months[j]\n",
        "        sell_price = prices[j]\n",
        "        months_held = (sell_month.year - buy_month.year) * 12 + (sell_month.month - buy_month.month)\n",
        "\n",
        "        profit_per_pint = (sell_price * discount_factor) - buy_price - freeze_cost - (storage_cost_per_month * months_held)\n",
        "\n",
        "        pints_purchased = int(investment // buy_price)\n",
        "        total_profit = profit_per_pint * pints_purchased\n",
        "\n",
        "        results.append({\n",
        "            'buy_month': buy_month.strftime('%Y-%m-%d'),\n",
        "            'sell_month': sell_month.strftime('%Y-%m-%d'),\n",
        "            'pints_purchased': pints_purchased,\n",
        "            'expected_profit': round(total_profit, 2)\n",
        "        })\n",
        "\n",
        "\n",
        "results_df = pd.DataFrame(results)\n",
        "\n",
        "results_df = results_df.sort_values(by='expected_profit', ascending=False)\n",
        "\n",
        "results_df.to_csv(\"timings.tsv\", sep=\"\\t\", index=False)\n",
        "\n",
        "results_df\n",
        "\n",
        "\n"
      ]
    },
    {
      "cell_type": "markdown",
      "metadata": {
        "id": "XAWzFd54nlxI"
      },
      "source": [
        "Submit \"timings.tsv\" in Gradescope."
      ]
    },
    {
      "cell_type": "markdown",
      "metadata": {
        "id": "LdrZE8qKCDUv"
      },
      "source": [
        "## Part 5: Strategy Check\n",
        "\n",
        "What is the best profit scenario according to your previous timing analysis?\n",
        "How much does that profit change if the sell price is off by one standard deviation from your backtest analysis?\n",
        "(Variation in the sell price is more dangerous because you can see the buy price before fully committing.)\n",
        "\n",
        "Write the results to a file \"check.tsv\" with columns best_profit and one_std_profit."
      ]
    },
    {
      "cell_type": "code",
      "execution_count": 11,
      "metadata": {
        "id": "7HvYBo_wt8Rv"
      },
      "outputs": [],
      "source": [
        "# YOUR CHANGES HERE\n",
        "\n",
        "import pandas as pd\n",
        "\n",
        "timings_df = pd.read_csv(\"timings.tsv\", sep=\"\\t\")\n",
        "best_row = timings_df.iloc[0]\n",
        "\n",
        "buy_month = best_row[\"buy_month\"]\n",
        "sell_month = best_row[\"sell_month\"]\n",
        "pints = best_row[\"pints_purchased\"]\n",
        "best_profit = best_row[\"expected_profit\"]\n",
        "\n",
        "accuracy_df = pd.read_csv(\"backtest-accuracy.tsv\", sep=\"\\t\")\n",
        "std_dev = accuracy_df[\"std\"].iloc[0]\n",
        "\n",
        "forecast_df = pd.read_csv(\"strawberry-forecast.tsv\", sep=\"\\t\", parse_dates=[\"month\"])\n",
        "forecast_df[\"month_str\"] = forecast_df[\"month\"].dt.strftime(\"%Y-%m-%d\")\n",
        "\n",
        "buy_price = forecast_df[forecast_df[\"month_str\"] == buy_month][\"price\"].values[0]\n",
        "sell_price = forecast_df[forecast_df[\"month_str\"] == sell_month][\"price\"].values[0]\n",
        "\n",
        "buy_idx = forecast_df[forecast_df[\"month_str\"] == buy_month].index[0]\n",
        "sell_idx = forecast_df[forecast_df[\"month_str\"] == sell_month].index[0]\n",
        "months_stored = sell_idx - buy_idx\n",
        "\n",
        "adjusted_sell_price = (sell_price - std_dev) * 0.9\n",
        "cost_per_pint = buy_price + 0.20 + 0.10 * months_stored\n",
        "profit_per_pint = adjusted_sell_price - cost_per_pint\n",
        "one_std_profit = round(profit_per_pint * pints, 2)\n",
        "\n",
        "check_df = pd.DataFrame([{\n",
        "    \"best_profit\": round(best_profit, 2),\n",
        "    \"one_std_profit\": one_std_profit\n",
        "}])\n",
        "check_df.to_csv(\"check.tsv\", sep=\"\\t\", index=False)\n",
        "\n"
      ]
    },
    {
      "cell_type": "markdown",
      "metadata": {
        "id": "M--8x-ZMEKAi"
      },
      "source": [
        "Submit \"check.tsv\" in Gradescope."
      ]
    },
    {
      "cell_type": "markdown",
      "metadata": {
        "id": "usYg0VtaqrGN"
      },
      "source": [
        "## Part 6: Acknowledgments\n",
        "\n",
        "Make a file \"acknowledgments.txt\" documenting any outside sources or help on this project.\n",
        "If you discussed this assignment with anyone, please acknowledge them here.\n",
        "If you used any libraries not mentioned in this module's content, please list them with a brief explanation what you used them for.\n",
        "If you used any generative AI tools, please add links to your transcripts below, and any other information that you feel is necessary to comply with the generative AI policy.\n",
        "If no acknowledgments are appropriate, just write none in the file.\n"
      ]
    },
    {
      "cell_type": "markdown",
      "metadata": {
        "id": "dZdLWQD8qvVV"
      },
      "source": [
        "Submit \"acknowledgments.txt\" in Gradescope."
      ]
    },
    {
      "cell_type": "code",
      "execution_count": 12,
      "metadata": {},
      "outputs": [
        {
          "data": {
            "text/html": [
              "<div>\n",
              "<style scoped>\n",
              "    .dataframe tbody tr th:only-of-type {\n",
              "        vertical-align: middle;\n",
              "    }\n",
              "\n",
              "    .dataframe tbody tr th {\n",
              "        vertical-align: top;\n",
              "    }\n",
              "\n",
              "    .dataframe thead th {\n",
              "        text-align: right;\n",
              "    }\n",
              "</style>\n",
              "<table border=\"1\" class=\"dataframe\">\n",
              "  <thead>\n",
              "    <tr style=\"text-align: right;\">\n",
              "      <th></th>\n",
              "      <th>Source</th>\n",
              "      <th>Used For/Reason</th>\n",
              "    </tr>\n",
              "  </thead>\n",
              "  <tbody>\n",
              "    <tr>\n",
              "      <th>0</th>\n",
              "      <td>1. https://www.geeksforgeeks.org/python/comple...</td>\n",
              "      <td>To learn more about Sarimax forecasting which ...</td>\n",
              "    </tr>\n",
              "    <tr>\n",
              "      <th>1</th>\n",
              "      <td>2. https://www.geeksforgeeks.org/dsa/python-pr...</td>\n",
              "      <td>To learn more about how python code for maximi...</td>\n",
              "    </tr>\n",
              "    <tr>\n",
              "      <th>2</th>\n",
              "      <td>3. https://www.geeksforgeeks.org/data-science/...</td>\n",
              "      <td>To learn more about Facebook Prophet, its term...</td>\n",
              "    </tr>\n",
              "  </tbody>\n",
              "</table>\n",
              "</div>"
            ],
            "text/plain": [
              "                                              Source  \\\n",
              "0  1. https://www.geeksforgeeks.org/python/comple...   \n",
              "1  2. https://www.geeksforgeeks.org/dsa/python-pr...   \n",
              "2  3. https://www.geeksforgeeks.org/data-science/...   \n",
              "\n",
              "                                     Used For/Reason  \n",
              "0  To learn more about Sarimax forecasting which ...  \n",
              "1  To learn more about how python code for maximi...  \n",
              "2  To learn more about Facebook Prophet, its term...  "
            ]
          },
          "execution_count": 12,
          "metadata": {},
          "output_type": "execute_result"
        }
      ],
      "source": [
        "acknowledgements = [\n",
        "['1. https://www.geeksforgeeks.org/python/complete-guide-to-sarimax-in-python/', \n",
        " 'To learn more about Sarimax forecasting which is a statistical method'],\n",
        "['2. https://www.geeksforgeeks.org/dsa/python-program-for-stock-buy-sell-to-maximize-profit/',\n",
        " 'To learn more about how python code for maximizing profit'],\n",
        " ['3. https://www.geeksforgeeks.org/data-science/time-series-analysis-using-facebook-prophet/', 'To learn more about Facebook Prophet, its terminology, and syntax']\n",
        "]\n",
        "\n",
        "columns = ['Source', 'Used For/Reason']\n",
        "\n",
        "ack_df = pd.DataFrame(acknowledgements, columns=columns)\n",
        "\n",
        "ack_df\n"
      ]
    },
    {
      "cell_type": "code",
      "execution_count": 13,
      "metadata": {},
      "outputs": [],
      "source": [
        "ack_df.to_csv(\"acknowledgements.txt\", sep=\"\\t\", index=False)"
      ]
    },
    {
      "cell_type": "markdown",
      "metadata": {
        "id": "n7ls909LqzkL"
      },
      "source": [
        "## Part 7: Code\n",
        "\n",
        "Please submit a Jupyter notebook that can reproduce all your calculations and recreate the previously submitted files.\n",
        "You do not need to provide code for data collection if you did that by manually."
      ]
    },
    {
      "cell_type": "markdown",
      "metadata": {
        "id": "mtgsTYQIq2pB"
      },
      "source": [
        "Submit \"project.ipynb\" in Gradescope."
      ]
    }
  ],
  "metadata": {
    "colab": {
      "toc_visible": false
    },
    "kernelspec": {
      "display_name": "Python 3",
      "name": "python3"
    },
    "language_info": {
      "codemirror_mode": {
        "name": "ipython",
        "version": 3
      },
      "file_extension": ".py",
      "mimetype": "text/x-python",
      "name": "python",
      "nbconvert_exporter": "python",
      "pygments_lexer": "ipython3",
      "version": "3.12.1"
    }
  },
  "nbformat": 4,
  "nbformat_minor": 0
}
