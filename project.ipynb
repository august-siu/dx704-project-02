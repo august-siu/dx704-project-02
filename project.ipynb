{
  "cells": [
    {
      "cell_type": "markdown",
      "metadata": {
        "id": "7aZ_blKrRZ3H"
      },
      "source": [
        "# DX 704 Week 2 Project\n",
        "\n",
        "This week's project will analyze fresh strawberry price data for a hypothetical \"buy low, freeze, and sell high\" business.\n",
        "Strawberries show strong seasonality in their prices compared to other fruits.\n",
        "\n",
        "![](https://ers.usda.gov/sites/default/files/_laserfiche/Charts/61401/oct14_finding_plattner_fig01.png)\n",
        "\n",
        "Image source: https://www.ers.usda.gov/amber-waves/2014/october/seasonal-fresh-fruit-price-patterns-differ-across-commodities-the-case-of-strawberries-and-apples\n",
        "\n",
        "You are considering a business where you buy strawberries when the prices are very low, carefully freeze them, even more carefully defrost them, and then sell them when the prices are high.\n",
        "You will forecast strawberry price time series and then use them to tactically pick times to buy, freeze, and sell the strawberries."
      ]
    },
    {
      "cell_type": "markdown",
      "metadata": {
        "id": "g1rddBd6_teG"
      },
      "source": [
        "The full project description, a template notebook, and raw data are available on GitHub at the following link.\n",
        "\n",
        "https://github.com/bu-cds-dx704/dx704-project-02\n"
      ]
    },
    {
      "cell_type": "markdown",
      "metadata": {},
      "source": [
        "### Example Code\n",
        "\n",
        "You may find it helpful to refer to these GitHub repositories of Jupyter notebooks for example code.\n",
        "\n",
        "* https://github.com/bu-cds-omds/dx601-examples\n",
        "* https://github.com/bu-cds-omds/dx602-examples\n",
        "* https://github.com/bu-cds-omds/dx603-examples\n",
        "* https://github.com/bu-cds-omds/dx704-examples\n",
        "\n",
        "Any calculations demonstrated in code examples or videos may be found in these notebooks, and you are allowed to copy this example code in your homework answers."
      ]
    },
    {
      "cell_type": "markdown",
      "metadata": {
        "id": "B7jHqNiZBXzD"
      },
      "source": [
        "## Part 1: Backtest Strawberry Prices\n",
        "\n",
        "Read the provided \"strawberry-prices.tsv\" with data from 2020 through 2024.\n",
        "This data is based on data from the U.S. Bureau of Statistics, but transformed so the ground truth is not online.\n",
        "https://fred.stlouisfed.org/series/APU0000711415\n",
        "\n",
        "Use the data for 2020 through 2023 to predict monthly prices in 2024.\n",
        "Spend some time to make sure you are happy with your methodology and prediction accuracy, since you will reuse the methodology to forecast 2025 next.\n",
        "Save the 2024 backtest predictions as \"strawberry-backtest.tsv\" with columns month and price.\n"
      ]
    },
    {
      "cell_type": "code",
      "execution_count": 31,
      "metadata": {
        "id": "T8OLCmHbiaoK"
      },
      "outputs": [
        {
          "name": "stderr",
          "output_type": "stream",
          "text": [
            "/usr/local/python/3.12.1/lib/python3.12/site-packages/statsmodels/tsa/base/tsa_model.py:473: ValueWarning: No frequency information was provided, so inferred frequency MS will be used.\n",
            "  self._init_dates(dates, freq)\n",
            "/usr/local/python/3.12.1/lib/python3.12/site-packages/statsmodels/tsa/base/tsa_model.py:473: ValueWarning: No frequency information was provided, so inferred frequency MS will be used.\n",
            "  self._init_dates(dates, freq)\n",
            "/usr/local/python/3.12.1/lib/python3.12/site-packages/statsmodels/tsa/statespace/sarimax.py:966: UserWarning: Non-stationary starting autoregressive parameters found. Using zeros as starting parameters.\n",
            "  warn('Non-stationary starting autoregressive parameters'\n",
            "/usr/local/python/3.12.1/lib/python3.12/site-packages/statsmodels/tsa/statespace/sarimax.py:978: UserWarning: Non-invertible starting MA parameters found. Using zeros as starting parameters.\n",
            "  warn('Non-invertible starting MA parameters found.'\n",
            "/usr/local/python/3.12.1/lib/python3.12/site-packages/statsmodels/tsa/statespace/sarimax.py:866: UserWarning: Too few observations to estimate starting parameters for seasonal ARMA. All parameters except for variances will be set to zeros.\n",
            "  warn('Too few observations to estimate starting parameters%s.'\n"
          ]
        },
        {
          "name": "stdout",
          "output_type": "stream",
          "text": [
            "2024 Mean Absolute Error: 0.41713319181643754\n"
          ]
        },
        {
          "name": "stderr",
          "output_type": "stream",
          "text": [
            "/usr/local/python/3.12.1/lib/python3.12/site-packages/statsmodels/base/model.py:607: ConvergenceWarning: Maximum Likelihood optimization failed to converge. Check mle_retvals\n",
            "  warnings.warn(\"Maximum Likelihood optimization failed to \"\n"
          ]
        }
      ],
      "source": [
        "# YOUR CHANGES HERE\n",
        "\n",
        "import pandas as pd\n",
        "import matplotlib.pyplot as plt\n",
        "from statsmodels.tsa.statespace.sarimax import SARIMAX\n",
        "from sklearn.metrics import mean_absolute_error\n",
        "\n",
        "df = pd.read_csv(\"strawberry-prices.tsv\", sep=\"\\t\", parse_dates=[\"month\"])\n",
        "\n",
        "train = df[df[\"month\"] < \"2024-01-01\"].set_index(\"month\")\n",
        "test_2024 = df[df[\"month\"].dt.year == 2024].set_index(\"month\")\n",
        "\n",
        "model = SARIMAX(train[\"price\"], order=(1,1,1), seasonal_order=(1,1,1,12))\n",
        "results = model.fit(disp=False)\n",
        "\n",
        "forecast_2024 = results.predict(start=\"2024-01-01\", end=\"2024-12-01\")\n",
        "\n",
        "mae_2024 = mean_absolute_error(test_2024[\"price\"], forecast_2024)\n",
        "print(\"2024 Mean Absolute Error:\", mae_2024)\n",
        "\n",
        "backtest_df = forecast_2024.reset_index()\n",
        "backtest_df.columns = [\"month\", \"price\"]\n",
        "backtest_df.to_csv(\"strawberry-backtest.tsv\", sep=\"\\t\", index=False)\n"
      ]
    },
    {
      "cell_type": "markdown",
      "metadata": {
        "id": "vzTi6z-skMoz"
      },
      "source": [
        "Submit \"strawberry-backtest.tsv\" in Gradescope."
      ]
    },
    {
      "cell_type": "code",
      "execution_count": null,
      "metadata": {},
      "outputs": [
        {
          "name": "stderr",
          "output_type": "stream",
          "text": [
            "15:43:10 - cmdstanpy - INFO - Chain [1] start processing\n",
            "15:43:10 - cmdstanpy - INFO - Chain [1] done processing\n"
          ]
        },
        {
          "name": "stdout",
          "output_type": "stream",
          "text": [
            "2024 Prophet MAE: 0.2345901387067971\n"
          ]
        }
      ],
      "source": [
        "#This code is exuecuted after failing the gradescope test, MAE is 0.4 \n",
        "#Looking through Piazza, professor note training the model more\n",
        "#So will try Facebook Prophet\n",
        "\n",
        "\n",
        "import pandas as pd\n",
        "from prophet import Prophet\n",
        "from sklearn.metrics import mean_absolute_error\n",
        "\n",
        "#in Facebook Prophet, \"ds\" is the datestamp, \"y\" is the Target Variable, \"yhat\" is the predicted value\n",
        "\n",
        "df = pd.read_csv(\"strawberry-prices.tsv\", sep=\"\\t\", parse_dates=[\"month\"])\n",
        "df = df.rename(columns={\"month\": \"ds\", \"price\": \"y\"})\n",
        "\n",
        "train = df[df[\"ds\"] < \"2024-01-01\"]\n",
        "test_2024 = df[(df[\"ds\"].dt.year == 2024)]\n",
        "\n",
        "model = Prophet(yearly_seasonality=True, daily_seasonality=False, weekly_seasonality=False)\n",
        "model.fit(train)\n",
        "\n",
        "future = model.make_future_dataframe(periods=12, freq='MS')  \n",
        "\n",
        "forecast = model.predict(future)\n",
        "\n",
        "\n",
        "forecast_2024 = forecast[forecast[\"ds\"].dt.year == 2024][[\"ds\", \"yhat\"]]\n",
        "\n",
        "merged = pd.merge(test_2024, forecast_2024, on=\"ds\")\n",
        "mae_2024 = mean_absolute_error(merged[\"y\"], merged[\"yhat\"])\n",
        "print(\"2024 Prophet MAE:\", mae_2024)\n",
        "\n"
      ]
    },
    {
      "cell_type": "markdown",
      "metadata": {
        "id": "T3D1ItqDnt9c"
      },
      "source": [
        "## Part 2: Backtest Errors\n",
        "\n",
        "What are the mean and standard deviation of the residuals between your backtest predictions and the ground truth? (If your mean is not close to zero, then you may be missing a long term trend.)\n",
        "\n",
        "Write the mean and standard deviation to a file \"backtest-accuracy.tsv\" with two columns, mean and std."
      ]
    },
    {
      "cell_type": "code",
      "execution_count": 33,
      "metadata": {},
      "outputs": [
        {
          "name": "stdout",
          "output_type": "stream",
          "text": [
            "Mean of residuals: -0.03477350807363696\n",
            "Standard deviation of residuals: 0.274374327235493\n"
          ]
        }
      ],
      "source": [
        "#this changed based on Facebook Prophet\n",
        "\n",
        "merged = pd.merge(test_2024, forecast_2024[[\"ds\", \"yhat\"]], on=\"ds\")\n",
        "\n",
        "residuals = merged[\"y\"] - merged[\"yhat\"]\n",
        "\n",
        "residual_mean = residuals.mean()\n",
        "residual_std = residuals.std()\n",
        "\n",
        "print(\"Mean of residuals:\", residual_mean)\n",
        "print(\"Standard deviation of residuals:\", residual_std)\n",
        "\n",
        "accuracy_df = pd.DataFrame({\n",
        "    \"mean\": [residual_mean],\n",
        "    \"std\": [residual_std]\n",
        "})\n",
        "\n",
        "accuracy_df.to_csv(\"backtest-accuracy.tsv\", sep=\"\\t\", index=False)\n"
      ]
    },
    {
      "cell_type": "markdown",
      "metadata": {
        "id": "Cq2d378QtnG9"
      },
      "source": [
        "Submit \"backtest-accuracy.tsv\" in Gradescope."
      ]
    },
    {
      "cell_type": "markdown",
      "metadata": {
        "id": "Pa4DWVrpj5mq"
      },
      "source": [
        "## Part 3: Forecast Strawberry Prices\n",
        "\n",
        "Use all the data from 2020 through 2024 to predict monthly prices in 2025 using the same methodology from part 1.\n",
        "Make a monthly forecast for each month of 2025 and save it as \"strawberry-forecast.tsv\" with columns for month and price."
      ]
    },
    {
      "cell_type": "code",
      "execution_count": 34,
      "metadata": {
        "id": "CiKoW3BrkJiS"
      },
      "outputs": [
        {
          "name": "stderr",
          "output_type": "stream",
          "text": [
            "/usr/local/python/3.12.1/lib/python3.12/site-packages/statsmodels/tsa/base/tsa_model.py:473: ValueWarning: No frequency information was provided, so inferred frequency MS will be used.\n",
            "  self._init_dates(dates, freq)\n",
            "/usr/local/python/3.12.1/lib/python3.12/site-packages/statsmodels/tsa/base/tsa_model.py:473: ValueWarning: No frequency information was provided, so inferred frequency MS will be used.\n",
            "  self._init_dates(dates, freq)\n",
            "/usr/local/python/3.12.1/lib/python3.12/site-packages/statsmodels/tsa/statespace/sarimax.py:966: UserWarning: Non-stationary starting autoregressive parameters found. Using zeros as starting parameters.\n",
            "  warn('Non-stationary starting autoregressive parameters'\n",
            "/usr/local/python/3.12.1/lib/python3.12/site-packages/statsmodels/tsa/statespace/sarimax.py:978: UserWarning: Non-invertible starting MA parameters found. Using zeros as starting parameters.\n",
            "  warn('Non-invertible starting MA parameters found.'\n",
            "/usr/local/python/3.12.1/lib/python3.12/site-packages/statsmodels/tsa/statespace/sarimax.py:1009: UserWarning: Non-invertible starting seasonal moving average Using zeros as starting parameters.\n",
            "  warn('Non-invertible starting seasonal moving average'\n",
            "/usr/local/python/3.12.1/lib/python3.12/site-packages/statsmodels/base/model.py:607: ConvergenceWarning: Maximum Likelihood optimization failed to converge. Check mle_retvals\n",
            "  warnings.warn(\"Maximum Likelihood optimization failed to \"\n"
          ]
        }
      ],
      "source": [
        "# YOUR CHANGES HERE# \n",
        "\n",
        "full_train = df[df[\"ds\"] < \"2025-01-01\"].set_index(\"ds\")\n",
        "\n",
        "model_2025 = SARIMAX(full_train[\"y\"], order=(1,1,1), seasonal_order=(1,1,1,12))\n",
        "results_2025 = model_2025.fit(disp=False)\n",
        "\n",
        "forecast_2025 = results_2025.predict(start=\"2025-01-01\", end=\"2025-12-01\")\n",
        "\n",
        "forecast_2025_df = forecast_2025.reset_index()\n",
        "forecast_2025_df.columns = [\"month\", \"price\"]\n",
        "\n",
        "forecast_2025_df.to_csv(\"strawberry-forecast.tsv\", sep=\"\\t\", index=False)\n",
        "\n"
      ]
    },
    {
      "cell_type": "markdown",
      "metadata": {
        "id": "32lM_MPdico0"
      },
      "source": [
        "Submit \"strawberry-forecast.tsv\" in Gradescope."
      ]
    },
    {
      "cell_type": "markdown",
      "metadata": {
        "id": "SzCWxxaLi8MH"
      },
      "source": [
        "## Part 4: Buy Low, Freeze and Sell High\n",
        "\n",
        "Using your 2025 forecast, analyze the profit picking different pairs of months to buy and sell strawberries.\n",
        "Maximize your profit assuming that it costs &dollar;0.20 per pint to freeze the strawberries, &dollar;0.10 per pint per month to store the frozen strawberries and there is a 10% price discount from selling previously frozen strawberries.\n",
        "So, if you buy a pint of strawberies for &dollar;1, freeze them, and sell them for &dollar;2 three months after buying them, then the profit is &dollar;2 * 0.9 - &dollar;1 - &dollar;0.20 - &dollar;0.10 * 3 = &dollar;0.30 per pint.\n",
        "To evaluate a given pair of months, assume that you can invest &dollar;1,000,000 to cover all costs, and that you buy as many pints of strawberries as possible.\n",
        "\n",
        "Write the results of your analysis to a file \"timings.tsv\" with columns for the buy_month, sell_month, pints_purchased, and expected_profit."
      ]
    },
    {
      "cell_type": "code",
      "execution_count": 35,
      "metadata": {
        "id": "pGWQQvy6nkCk"
      },
      "outputs": [],
      "source": [
        "# YOUR CHANGES HERE\n",
        "\n",
        "import pandas as pd\n",
        "from itertools import combinations\n",
        "\n",
        "forecast_df = pd.read_csv(\"strawberry-forecast.tsv\", sep=\"\\t\", parse_dates=[\"month\"])\n",
        "forecast_df[\"month_str\"] = forecast_df[\"month\"].dt.strftime(\"%Y-%m-%d\")\n",
        "\n",
        "capital = 1_000_000\n",
        "results = []\n",
        "\n",
        "# Loop over all valid (buy, sell) month pairs\n",
        "for i in range(len(forecast_df)):\n",
        "    for j in range(i + 1, len(forecast_df)):\n",
        "        buy_row = forecast_df.iloc[i]\n",
        "        sell_row = forecast_df.iloc[j]\n",
        "\n",
        "        buy_price = buy_row[\"price\"]\n",
        "        sell_price = sell_row[\"price\"]\n",
        "        months_stored = j - i\n",
        "\n",
        "        adjusted_sell_price = sell_price * 0.9\n",
        "        total_cost_per_pint = buy_price + 0.20 + 0.10 * months_stored\n",
        "        profit_per_pint = adjusted_sell_price - total_cost_per_pint\n",
        "\n",
        "        if profit_per_pint > 0:\n",
        "            pints = capital // total_cost_per_pint\n",
        "            total_profit = pints * profit_per_pint\n",
        "\n",
        "            results.append({\n",
        "                \"buy_month\": buy_row[\"month_str\"],\n",
        "                \"sell_month\": sell_row[\"month_str\"],\n",
        "                \"pints_purchased\": int(pints),\n",
        "                \"expected_profit\": round(total_profit, 2)\n",
        "            })\n",
        "\n",
        "results_df = pd.DataFrame(results)\n",
        "results_df = results_df.sort_values(by=\"expected_profit\", ascending=False)\n",
        "\n",
        "results_df.to_csv(\"timings.tsv\", sep=\"\\t\", index=False)\n"
      ]
    },
    {
      "cell_type": "markdown",
      "metadata": {
        "id": "XAWzFd54nlxI"
      },
      "source": [
        "Submit \"timings.tsv\" in Gradescope."
      ]
    },
    {
      "cell_type": "markdown",
      "metadata": {
        "id": "LdrZE8qKCDUv"
      },
      "source": [
        "## Part 5: Strategy Check\n",
        "\n",
        "What is the best profit scenario according to your previous timing analysis?\n",
        "How much does that profit change if the sell price is off by one standard deviation from your backtest analysis?\n",
        "(Variation in the sell price is more dangerous because you can see the buy price before fully committing.)\n",
        "\n",
        "Write the results to a file \"check.tsv\" with columns best_profit and one_std_profit."
      ]
    },
    {
      "cell_type": "code",
      "execution_count": 36,
      "metadata": {
        "id": "7HvYBo_wt8Rv"
      },
      "outputs": [],
      "source": [
        "# YOUR CHANGES HERE\n",
        "\n",
        "import pandas as pd\n",
        "\n",
        "timings_df = pd.read_csv(\"timings.tsv\", sep=\"\\t\")\n",
        "best_row = timings_df.iloc[0]\n",
        "\n",
        "buy_month = best_row[\"buy_month\"]\n",
        "sell_month = best_row[\"sell_month\"]\n",
        "pints = best_row[\"pints_purchased\"]\n",
        "best_profit = best_row[\"expected_profit\"]\n",
        "\n",
        "accuracy_df = pd.read_csv(\"backtest-accuracy.tsv\", sep=\"\\t\")\n",
        "std_dev = accuracy_df[\"std\"].iloc[0]\n",
        "\n",
        "forecast_df = pd.read_csv(\"strawberry-forecast.tsv\", sep=\"\\t\", parse_dates=[\"month\"])\n",
        "forecast_df[\"month_str\"] = forecast_df[\"month\"].dt.strftime(\"%Y-%m-%d\")\n",
        "\n",
        "buy_price = forecast_df[forecast_df[\"month_str\"] == buy_month][\"price\"].values[0]\n",
        "sell_price = forecast_df[forecast_df[\"month_str\"] == sell_month][\"price\"].values[0]\n",
        "\n",
        "buy_idx = forecast_df[forecast_df[\"month_str\"] == buy_month].index[0]\n",
        "sell_idx = forecast_df[forecast_df[\"month_str\"] == sell_month].index[0]\n",
        "months_stored = sell_idx - buy_idx\n",
        "\n",
        "adjusted_sell_price = (sell_price - std_dev) * 0.9\n",
        "cost_per_pint = buy_price + 0.20 + 0.10 * months_stored\n",
        "profit_per_pint = adjusted_sell_price - cost_per_pint\n",
        "one_std_profit = round(profit_per_pint * pints, 2)\n",
        "\n",
        "check_df = pd.DataFrame([{\n",
        "    \"best_profit\": round(best_profit, 2),\n",
        "    \"one_std_profit\": one_std_profit\n",
        "}])\n",
        "check_df.to_csv(\"check.tsv\", sep=\"\\t\", index=False)\n",
        "\n",
        "\n"
      ]
    },
    {
      "cell_type": "markdown",
      "metadata": {
        "id": "M--8x-ZMEKAi"
      },
      "source": [
        "Submit \"check.tsv\" in Gradescope."
      ]
    },
    {
      "cell_type": "markdown",
      "metadata": {
        "id": "usYg0VtaqrGN"
      },
      "source": [
        "## Part 6: Acknowledgments\n",
        "\n",
        "Make a file \"acknowledgments.txt\" documenting any outside sources or help on this project.\n",
        "If you discussed this assignment with anyone, please acknowledge them here.\n",
        "If you used any libraries not mentioned in this module's content, please list them with a brief explanation what you used them for.\n",
        "If you used any generative AI tools, please add links to your transcripts below, and any other information that you feel is necessary to comply with the generative AI policy.\n",
        "If no acknowledgments are appropriate, just write none in the file.\n"
      ]
    },
    {
      "cell_type": "markdown",
      "metadata": {
        "id": "dZdLWQD8qvVV"
      },
      "source": [
        "Submit \"acknowledgments.txt\" in Gradescope."
      ]
    },
    {
      "cell_type": "code",
      "execution_count": 37,
      "metadata": {},
      "outputs": [
        {
          "data": {
            "text/html": [
              "<div>\n",
              "<style scoped>\n",
              "    .dataframe tbody tr th:only-of-type {\n",
              "        vertical-align: middle;\n",
              "    }\n",
              "\n",
              "    .dataframe tbody tr th {\n",
              "        vertical-align: top;\n",
              "    }\n",
              "\n",
              "    .dataframe thead th {\n",
              "        text-align: right;\n",
              "    }\n",
              "</style>\n",
              "<table border=\"1\" class=\"dataframe\">\n",
              "  <thead>\n",
              "    <tr style=\"text-align: right;\">\n",
              "      <th></th>\n",
              "      <th>Source</th>\n",
              "      <th>Used For/Reason</th>\n",
              "    </tr>\n",
              "  </thead>\n",
              "  <tbody>\n",
              "    <tr>\n",
              "      <th>0</th>\n",
              "      <td>1. https://www.geeksforgeeks.org/python/comple...</td>\n",
              "      <td>To learn more about Sarimax forecasting which ...</td>\n",
              "    </tr>\n",
              "    <tr>\n",
              "      <th>1</th>\n",
              "      <td>2. https://www.geeksforgeeks.org/dsa/python-pr...</td>\n",
              "      <td>To learn more about how python code for maximi...</td>\n",
              "    </tr>\n",
              "  </tbody>\n",
              "</table>\n",
              "</div>"
            ],
            "text/plain": [
              "                                              Source  \\\n",
              "0  1. https://www.geeksforgeeks.org/python/comple...   \n",
              "1  2. https://www.geeksforgeeks.org/dsa/python-pr...   \n",
              "\n",
              "                                     Used For/Reason  \n",
              "0  To learn more about Sarimax forecasting which ...  \n",
              "1  To learn more about how python code for maximi...  "
            ]
          },
          "execution_count": 37,
          "metadata": {},
          "output_type": "execute_result"
        }
      ],
      "source": [
        "acknowledgements = [\n",
        "['1. https://www.geeksforgeeks.org/python/complete-guide-to-sarimax-in-python/', \n",
        " 'To learn more about Sarimax forecasting which is a statistical method'],\n",
        "['2. https://www.geeksforgeeks.org/dsa/python-program-for-stock-buy-sell-to-maximize-profit/',\n",
        " 'To learn more about how python code for maximizing profit'],\n",
        "]\n",
        "\n",
        "columns = ['Source', 'Used For/Reason']\n",
        "\n",
        "ack_df = pd.DataFrame(acknowledgements, columns=columns)\n",
        "\n",
        "ack_df\n"
      ]
    },
    {
      "cell_type": "code",
      "execution_count": 38,
      "metadata": {},
      "outputs": [],
      "source": [
        "ack_df.to_csv(\"acknowledgements.txt\", sep=\"\\t\", index=False)"
      ]
    },
    {
      "cell_type": "markdown",
      "metadata": {
        "id": "n7ls909LqzkL"
      },
      "source": [
        "## Part 7: Code\n",
        "\n",
        "Please submit a Jupyter notebook that can reproduce all your calculations and recreate the previously submitted files.\n",
        "You do not need to provide code for data collection if you did that by manually."
      ]
    },
    {
      "cell_type": "markdown",
      "metadata": {
        "id": "mtgsTYQIq2pB"
      },
      "source": [
        "Submit \"project.ipynb\" in Gradescope."
      ]
    }
  ],
  "metadata": {
    "colab": {
      "toc_visible": false
    },
    "kernelspec": {
      "display_name": "Python 3",
      "name": "python3"
    },
    "language_info": {
      "codemirror_mode": {
        "name": "ipython",
        "version": 3
      },
      "file_extension": ".py",
      "mimetype": "text/x-python",
      "name": "python",
      "nbconvert_exporter": "python",
      "pygments_lexer": "ipython3",
      "version": "3.12.1"
    }
  },
  "nbformat": 4,
  "nbformat_minor": 0
}
